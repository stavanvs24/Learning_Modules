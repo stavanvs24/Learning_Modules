{
 "cells": [
  {
   "cell_type": "markdown",
   "metadata": {
    "collapsed": true,
    "slideshow": {
     "slide_type": "slide"
    }
   },
   "source": [
    "## Python Tutorials\n",
    "\n",
    "If you have no knowledge of programming, then the [official Python tutorial](https://docs.python.org/2/tutorial/index.html) is a good place to start.\n",
    "Welcome to this class, week 1. Enjoy it!\n",
    "\n",
    "\n"
   ]
  },
  {
   "cell_type": "markdown",
   "metadata": {
    "slideshow": {
     "slide_type": "slide"
    }
   },
   "source": [
    "Comments\n",
    "--------\n",
    "Comments are notes in your source code that aren't exectued when your code is run. These are useful for reminding yourself what your code does, and for notifying others to your intentions. Python has single line and multiline comments."
   ]
  },
  {
   "cell_type": "code",
   "execution_count": 2,
   "metadata": {
    "slideshow": {
     "slide_type": "slide"
    }
   },
   "outputs": [
    {
     "name": "stdout",
     "output_type": "stream",
     "text": [
      "hi\n",
      "hi\n"
     ]
    }
   ],
   "source": [
    "# this is a single line comment\n",
    "\n",
    "print(\"hi\") \n",
    "\n",
    "print(\"hi\")"
   ]
  },
  {
   "cell_type": "markdown",
   "metadata": {
    "collapsed": true,
    "slideshow": {
     "slide_type": "slide"
    }
   },
   "source": [
    "Variables\n",
    "---------\n",
    "\n",
    "Variables are aliases for data. This allows the developer to use the name for a particular value rather than the value it self. This makes the code more readable, and allows various optimizations to make a program run more efficiently.\n",
    "\n",
    "In python, a variable can be named almost anything, according to the whims of the programmer. You can use any letter, the special characters \"\\_\" and every number provided you do not start with it. White spaces and signs with special meanings in Python, as \"+\" and \"-\" are not allowed. Variable names are case-sensitive. The common pattern is to separate words in variable names with underscores \"\\_\".\n",
    "\n",
    "Variables are declared by stating the variable name and assigning to it using the \"=\" operator. At any time, you can reassign a value to a variable."
   ]
  },
  {
   "cell_type": "code",
   "execution_count": 4,
   "metadata": {},
   "outputs": [
    {
     "name": "stdout",
     "output_type": "stream",
     "text": [
      "1\n",
      "<class 'int'>\n",
      "<class 'float'>\n"
     ]
    }
   ],
   "source": [
    "a_variable = 'yay!'\n",
    "another_variable = \"woo!\"\n",
    "\n",
    "yet_another_variable = 1\n",
    "one_more_variable = 3.1415926\n",
    "\n",
    "# print(a_variable)\n",
    "\n",
    "print(yet_another_variable)\n",
    "print(type(yet_another_variable))\n",
    "print(type(one_more_variable))"
   ]
  },
  {
   "cell_type": "code",
   "execution_count": 4,
   "metadata": {},
   "outputs": [
    {
     "name": "stdout",
     "output_type": "stream",
     "text": [
      "yay!woo!\n"
     ]
    }
   ],
   "source": [
    "print(a_variable + another_variable)"
   ]
  },
  {
   "cell_type": "code",
   "execution_count": 5,
   "metadata": {},
   "outputs": [
    {
     "name": "stdout",
     "output_type": "stream",
     "text": [
      "yay!1\n"
     ]
    }
   ],
   "source": [
    "print(a_variable + str(yet_another_variable))"
   ]
  },
  {
   "cell_type": "code",
   "execution_count": 6,
   "metadata": {},
   "outputs": [
    {
     "name": "stdout",
     "output_type": "stream",
     "text": [
      "4.1415926\n"
     ]
    }
   ],
   "source": [
    "print(yet_another_variable + one_more_variable)"
   ]
  },
  {
   "cell_type": "code",
   "execution_count": 7,
   "metadata": {},
   "outputs": [
    {
     "name": "stdout",
     "output_type": "stream",
     "text": [
      "yay!woo!\n"
     ]
    }
   ],
   "source": [
    "print(a_variable + another_variable)"
   ]
  },
  {
   "cell_type": "code",
   "execution_count": 8,
   "metadata": {
    "slideshow": {
     "slide_type": "slide"
    }
   },
   "outputs": [
    {
     "name": "stdout",
     "output_type": "stream",
     "text": [
      "yay! 1a\n"
     ]
    }
   ],
   "source": [
    "print(a_variable + \" \" + str(yet_another_variable) + \"a\")"
   ]
  },
  {
   "cell_type": "markdown",
   "metadata": {
    "slideshow": {
     "slide_type": "slide"
    }
   },
   "source": [
    "We can get the output of unix commands in Python variables by prefixing them with `!`"
   ]
  },
  {
   "cell_type": "code",
   "execution_count": 9,
   "metadata": {
    "slideshow": {
     "slide_type": "slide"
    }
   },
   "outputs": [
    {
     "name": "stdout",
     "output_type": "stream",
     "text": [
      "['The current date is: 13-10-2021 ', 'Enter the new date: (dd-mm-yy) ']\n"
     ]
    }
   ],
   "source": [
    "current_date = !date\n",
    "print(current_date)"
   ]
  },
  {
   "cell_type": "code",
   "execution_count": null,
   "metadata": {},
   "outputs": [],
   "source": [
    "!conda install pandas"
   ]
  },
  {
   "cell_type": "code",
   "execution_count": null,
   "metadata": {},
   "outputs": [],
   "source": [
    "!pip install --upgrade pip"
   ]
  },
  {
   "cell_type": "code",
   "execution_count": null,
   "metadata": {},
   "outputs": [],
   "source": [
    "import numpy as np\n",
    "import pandas as pd\n",
    "\n",
    "\n",
    "\n"
   ]
  },
  {
   "cell_type": "markdown",
   "metadata": {
    "slideshow": {
     "slide_type": "slide"
    }
   },
   "source": [
    "Python reserved keywords: \n",
    "import, \n",
    "and, \n",
    "as, \n",
    "assert, \n",
    "break,\n",
    "if,\n",
    "or,\n",
    "pass,\n",
    "return,\n",
    "while,\n",
    "print,\n",
    "def,\n",
    "from,\n",
    "global,\n",
    "class,\n",
    "continue,\n",
    "del,\n",
    "elif,\n",
    "else,\n",
    "except,\n",
    "exec,\n",
    "not,\n",
    "lambda,\n",
    "is,\n",
    "raise,\n",
    "try,\n",
    "with,\n",
    "yield"
   ]
  },
  {
   "cell_type": "markdown",
   "metadata": {
    "slideshow": {
     "slide_type": "slide"
    }
   },
   "source": [
    "Primitive Data Types\n",
    "--------------------\n",
    "\n",
    "These are the basic data types that constitute all of the more complex data structures in python.\n",
    "\n",
    "### String:\n",
    "Textual data, characters and sequences of characters. Can be specified by surrounding some text with single `'` or double `\"` quotes. "
   ]
  },
  {
   "cell_type": "code",
   "execution_count": null,
   "metadata": {
    "slideshow": {
     "slide_type": "subslide"
    }
   },
   "outputs": [],
   "source": [
    "str_1 = \"Hello World!\"\n",
    "print(str_1)\n",
    "type(str_1)"
   ]
  },
  {
   "cell_type": "code",
   "execution_count": null,
   "metadata": {},
   "outputs": [],
   "source": []
  },
  {
   "cell_type": "code",
   "execution_count": null,
   "metadata": {},
   "outputs": [],
   "source": [
    "# Notice that we end the strings below with the \\n character, \n",
    "# which is the \"new line\" special character\n",
    "str_2 =r\"Hello World!\\tHello World Twice!\\nHello World Third time!\"\n",
    "print(str_2)"
   ]
  },
  {
   "cell_type": "code",
   "execution_count": null,
   "metadata": {},
   "outputs": [],
   "source": [
    "# Let's use the \\t character which is the special character for tab\n",
    "str_3 =\"Hello\\\\tWorld!\\n\"\n",
    "print(str_3)"
   ]
  },
  {
   "cell_type": "code",
   "execution_count": null,
   "metadata": {},
   "outputs": [],
   "source": [
    "str_4 = 'This is a string within single quotes that can contain \"double quotes\" as part of the string'\n",
    "print(str_4)"
   ]
  },
  {
   "cell_type": "code",
   "execution_count": null,
   "metadata": {},
   "outputs": [],
   "source": [
    "str_5 = \"If we want to have \\\"single quotes\\\" in single quoted string we should escape them\\\\r\"\n",
    "print(str_5)"
   ]
  },
  {
   "cell_type": "code",
   "execution_count": null,
   "metadata": {},
   "outputs": [],
   "source": [
    "str_6 = \"Similarly, if we want to have \\\"double quotes\\\" in double quoted string we should escape them\\n\"\n",
    "print(str_6)"
   ]
  },
  {
   "cell_type": "code",
   "execution_count": null,
   "metadata": {},
   "outputs": [],
   "source": [
    "# Use + to concatenate strings\n",
    "str_7 = \"hello\"\n",
    "str_8 = \"world\"\n",
    "print(str_7+ str_8)"
   ]
  },
  {
   "cell_type": "code",
   "execution_count": null,
   "metadata": {},
   "outputs": [],
   "source": [
    "# If we want to have multiple lines in the string then we can use triple quotes: This is a multiline string!\n",
    "str_9 = '''If we want to have multiple lines in the string\n",
    "then we can use triple quotes: This is a multiline\n",
    "string!'''\n",
    "\n",
    "print(str_9)"
   ]
  },
  {
   "cell_type": "code",
   "execution_count": null,
   "metadata": {},
   "outputs": [],
   "source": [
    "# If we want to have multiple lines in the string then we can use triple quotes: This is a multiline string!\n",
    "str_19 = \"\"\"If we want to have multiple lines in the string \n",
    "then we can use triple quotes: This is a multiline\n",
    "string!\"\"\"\n",
    "\n",
    "\n",
    "\n",
    "\n",
    "print(str_19)\n",
    "    "
   ]
  },
  {
   "cell_type": "code",
   "execution_count": null,
   "metadata": {},
   "outputs": [],
   "source": [
    "\n",
    "print('Two or more string literals' + ' ' +'(i.e. the ones enclosed between quotes)''next to each other are automatically concatenated.\\n')"
   ]
  },
  {
   "cell_type": "code",
   "execution_count": null,
   "metadata": {},
   "outputs": [],
   "source": [
    "# And if we want to assign the text to a variable, we put it within parentheses\n",
    "str_10 = ('Two or more string literals \\\\r' \n",
    "'(i.e. the ones enclosed between quotes)\\n' \n",
    "'next to each other are automatically concatenated.')\n",
    "print(str_10)\n"
   ]
  },
  {
   "cell_type": "code",
   "execution_count": null,
   "metadata": {},
   "outputs": [],
   "source": [
    "print(\"e.g., type C:\\\\teaching\\ instead of C:\\teaching\\\\)\")"
   ]
  },
  {
   "cell_type": "markdown",
   "metadata": {},
   "source": [
    "Prefix strings with `r` to indicate a `raw` string, where there are no escape characters like \\t, \\n etc."
   ]
  },
  {
   "cell_type": "code",
   "execution_count": null,
   "metadata": {},
   "outputs": [],
   "source": [
    "str_11 = (r'And if we want to use the \\ character\\n '\n",
    "r'without escaping it by typing \\\\ '\n",
    "r'(e.g., type C:\\teaching\\ instead of C:\\\\teaching\\\\) '\n",
    "r'then we use the r prefix for the string')\n",
    "print(str_11)"
   ]
  },
  {
   "cell_type": "markdown",
   "metadata": {},
   "source": [
    "Strings can be indexed (subscripted), with the first character having index 0. There is no separate character type; a character is simply a string of size one:"
   ]
  },
  {
   "cell_type": "code",
   "execution_count": null,
   "metadata": {},
   "outputs": [],
   "source": [
    "word = 'Python'\n",
    "len(word)"
   ]
  },
  {
   "cell_type": "code",
   "execution_count": null,
   "metadata": {},
   "outputs": [],
   "source": [
    "# character in position 0\n",
    "word[-3:-1]"
   ]
  },
  {
   "cell_type": "code",
   "execution_count": null,
   "metadata": {},
   "outputs": [],
   "source": [
    "# character in position 5\n",
    "word[5]"
   ]
  },
  {
   "cell_type": "markdown",
   "metadata": {},
   "source": [
    "Indices may also be negative numbers, to start counting from the right:"
   ]
  },
  {
   "cell_type": "code",
   "execution_count": null,
   "metadata": {},
   "outputs": [],
   "source": [
    "# last character\n",
    "word[-1]\n"
   ]
  },
  {
   "cell_type": "code",
   "execution_count": null,
   "metadata": {},
   "outputs": [],
   "source": [
    "# second-last character\n",
    "word[-2]"
   ]
  },
  {
   "cell_type": "markdown",
   "metadata": {},
   "source": [
    "In addition to indexing, slicing is also supported. While indexing is used to obtain individual characters, slicing allows you to obtain a substring:"
   ]
  },
  {
   "cell_type": "code",
   "execution_count": null,
   "metadata": {},
   "outputs": [],
   "source": [
    "# characters from position 0 (included) to 2 (excluded)\n",
    "word[0:2]\n"
   ]
  },
  {
   "cell_type": "code",
   "execution_count": null,
   "metadata": {},
   "outputs": [],
   "source": [
    "# characters from position 2 (included) to 5 (excluded)\n",
    "word[2:5]"
   ]
  },
  {
   "cell_type": "code",
   "execution_count": null,
   "metadata": {},
   "outputs": [],
   "source": [
    "# characters from position 2 (included) to the end\n",
    "word[2:]\n",
    "# word= \"python\""
   ]
  },
  {
   "cell_type": "code",
   "execution_count": null,
   "metadata": {},
   "outputs": [],
   "source": [
    "# characters from beginning (position 0) to position 3 (excluded)\n",
    "word[:3]"
   ]
  },
  {
   "cell_type": "markdown",
   "metadata": {},
   "source": [
    "# Integer:\n",
    "Positive and negative whole numbers"
   ]
  },
  {
   "cell_type": "code",
   "execution_count": null,
   "metadata": {},
   "outputs": [],
   "source": [
    "# for integers, + is just \"plus\""
   ]
  },
  {
   "cell_type": "markdown",
   "metadata": {},
   "source": [
    "# Floating Point Numbers:\n",
    "Decimal numbers, representations of fractions, and \"real-valued numbers\""
   ]
  },
  {
   "cell_type": "code",
   "execution_count": null,
   "metadata": {},
   "outputs": [],
   "source": [
    "float_1 = 1.2\n",
    "float_2 = -4.0\n",
    "float_3 = 10.0\n",
    "\n",
    "print(float_1 + float_2 + float_3)\n",
    "print(float_1*float_2)\n",
    "print(int(1/3))"
   ]
  },
  {
   "cell_type": "markdown",
   "metadata": {},
   "source": [
    "# Booleans:\n",
    "\n",
    "Booleans represent the truth or success of a statement, and are commonly used for branching and checking status in code. "
   ]
  },
  {
   "cell_type": "code",
   "execution_count": null,
   "metadata": {},
   "outputs": [],
   "source": [
    "bool_1 = True\n",
    "bool_2 = False\n",
    "\n",
    "print(bool_1)\n",
    "print(bool_2)\n"
   ]
  },
  {
   "cell_type": "markdown",
   "metadata": {},
   "source": [
    "Operations on Primitive Data Types\n",
    "----------------------------------\n",
    "\n",
    "Python provides a variety of operations for performing common tasks on the primitive data types presented above. Of course, this list isn't complete, and the core functionality provided by python is greatly extended by library code, some of which will be discussed below. Note that operations can be performed either on \"literal primitives\" or on variables storing some primitive. \n",
    "\n",
    "### Operations on Strings \n",
    "We've already seen one of the most common string operators, `+`, used for string concatenation, the indexing operation to get specific characters, and the slicing operation to get substrings. Below are some of the more commonly used string operations:\n",
    "\n",
    "+ `+` : concatenate two strings\n",
    "+ `len(str)`: length of a string, number of characters\n",
    "+ `str.upper()`: returns an uppercase version of a string\n",
    "+ `str.lower()`: returns a lowercase version of a string\n",
    "+ `str_1.index(str_2)`: searches str_1 for str_2, prints the position of the first occurrence, indexed from 0. Note, throws an error if str_2 isn't found.\n",
    "+ `str_1.count(str_2)`: counts the number of occurrences of one string in another.\n",
    "+ `str_1.startswith(str_2)`: does a the str_1 string start with the str_2 string?\n",
    "+ `str_1.endswith(str_2)`: does a the str_1 string end with the str_2 string?\n",
    "+ `str_1.split(str_2)`: split the first string at every occurrence of the second string. Outputs a list (see below).\n",
    "+ `==`: are the two operand strings the same?\n",
    "+ `str.strip()`: remove any whitespace from the left or right of the string, including newlines. \n",
    "+ `str.join(iterable)`: The join() string method returns a string by joining all the elements of an iterable, separated by a string separator. Example of iterables are List, Tuple, String, Dictionary and Set.\n",
    "\n",
    "A better list of string operations is [available here](http://docs.python.org/2/library/string.html)."
   ]
  },
  {
   "cell_type": "code",
   "execution_count": null,
   "metadata": {},
   "outputs": [],
   "source": [
    "# .join() with lists\n",
    "numList = ['1', '2', '3', '4']\n",
    "separator = ' '\n",
    "print(separator.join(numList))\n",
    "\n",
    "# .join() with tuples\n",
    "numTuple = ('1', '2', '3', '4')\n",
    "print(separator.join(numTuple))"
   ]
  },
  {
   "cell_type": "code",
   "execution_count": null,
   "metadata": {},
   "outputs": [],
   "source": [
    "s1 = 'abc'\n",
    "s2 = '123'\n",
    "\n",
    "# each element of s2 is separated by s1\n",
    "# '1'+ 'abc'+ '2'+ 'abc'+ '3'\n",
    "print('s1.join(s2):', s1.join(s2))\n",
    "\n",
    "# each element of s1 is separated by s2\n",
    "# 'a'+ '123'+ 'b'+ '123'+ 'c'\n",
    "print('s2.join(s1):', s2.join(s1))"
   ]
  },
  {
   "cell_type": "code",
   "execution_count": null,
   "metadata": {},
   "outputs": [],
   "source": [
    "word = \"Python is the word. And on and on and on and on...\" \n",
    "print(word)\n",
    "print(\"The length of the word above is \", len(word), \"characters\")\n"
   ]
  },
  {
   "cell_type": "markdown",
   "metadata": {},
   "source": [
    "#### Exercise\n",
    "\n",
    "* Change the whole string to the uppercase\n",
    "* Which position we see the string \"on\" for the first time\n",
    "* How many times we see the string \"on\"\n",
    "* Split the string by space\n"
   ]
  },
  {
   "cell_type": "code",
   "execution_count": null,
   "metadata": {},
   "outputs": [],
   "source": [
    "str_2 = \"on\"\n",
    "word.upper()\n",
    "c\n",
    "word.count(\"on\")\n",
    "word.count(str_2)\n",
    "word.split(\" \")"
   ]
  },
  {
   "cell_type": "markdown",
   "metadata": {},
   "source": [
    "#### Exercise\n",
    "\n",
    "\n",
    "* Which position we see the string py for the first time\n",
    "* How many times we see the string \"and\"\n",
    "* Split the string by space\n",
    "* Check whether the string starts with \"He\"\n",
    "\n"
   ]
  },
  {
   "cell_type": "code",
   "execution_count": null,
   "metadata": {},
   "outputs": [],
   "source": [
    "word.endswith(\"He\")"
   ]
  },
  {
   "cell_type": "code",
   "execution_count": null,
   "metadata": {},
   "outputs": [],
   "source": []
  },
  {
   "cell_type": "code",
   "execution_count": null,
   "metadata": {},
   "outputs": [],
   "source": [
    "# You try the following\n",
    "str_1 =\"hello\"\n",
    "str_2 = \"world\"\n",
    "print(\"concatenation:\")\n",
    "print(str_1 + \" \" + str_2)\n",
    "print(str_1 + \" everybody\")"
   ]
  },
  {
   "cell_type": "code",
   "execution_count": null,
   "metadata": {},
   "outputs": [],
   "source": [
    "print(\"length:\")\n",
    "print(len(str_1))\n",
    "print(len(str_1 + \" \" + str_2))"
   ]
  },
  {
   "cell_type": "code",
   "execution_count": null,
   "metadata": {},
   "outputs": [],
   "source": [
    "print(\"string casing:\")\n",
    "print(str_1.upper())\n",
    "print(\"HELLO\".lower())"
   ]
  },
  {
   "cell_type": "code",
   "execution_count": null,
   "metadata": {},
   "outputs": [],
   "source": [
    "print(\"string indexing:\")\n",
    "print(\"hello\".index(\"ll\"))\n",
    "print(\"hello\".upper().index(\"LL\"))"
   ]
  },
  {
   "cell_type": "code",
   "execution_count": null,
   "metadata": {},
   "outputs": [],
   "source": [
    "print(\"string count:\")\n",
    "print(str_1.count(\"l\"))\n",
    "print(str_1.count(\"ll\"))"
   ]
  },
  {
   "cell_type": "code",
   "execution_count": null,
   "metadata": {},
   "outputs": [],
   "source": [
    "print(\"starts with & endswith:\")\n",
    "print(\"hello\".startswith(\"he\"))\n",
    "print(\"hello\".endswith(\"world\"))"
   ]
  },
  {
   "cell_type": "code",
   "execution_count": null,
   "metadata": {},
   "outputs": [],
   "source": [
    "print(\"split:\")\n",
    "print(\"practical data science\".split(\" \"))\n",
    "print(\"hello\".split(\" \"))"
   ]
  },
  {
   "cell_type": "code",
   "execution_count": null,
   "metadata": {},
   "outputs": [],
   "source": [
    "print(\"equality:\")\n",
    "print(str_1 == \"hello\")\n",
    "print(str_1 == \"HELLO\")"
   ]
  },
  {
   "cell_type": "code",
   "execution_count": null,
   "metadata": {},
   "outputs": [],
   "source": []
  },
  {
   "cell_type": "markdown",
   "metadata": {},
   "source": [
    "### Operations on Numeric Types:\n",
    "There are a bunch of common mathematical operations available on numeric types in python. If an operation is being performed on two integers, then the output will also be an integer. If one of the operands is a float, then the remaining operand will be cast into a float, and the result will likewise be a float.\n",
    "\n",
    "+ `+`: plus, add two numbers\n",
    "+ `-`: minus, subtract two numbers. If put before a single numeric value, takes the negative of that value. \n",
    "+ `*`: multiply two numbers\n",
    "+ `/`: divide the first operand by the second.\n",
    "+ `%`: modulo, what is the remainder when the first number is divided by the second?"
   ]
  },
  {
   "cell_type": "code",
   "execution_count": null,
   "metadata": {},
   "outputs": [],
   "source": [
    "print(\"addition:\")\n",
    "print(1+1.0)\n",
    "print(1.5 + 1)"
   ]
  },
  {
   "cell_type": "code",
   "execution_count": null,
   "metadata": {},
   "outputs": [],
   "source": [
    "print(\"subtraction:\")\n",
    "print(1-1)\n",
    "print(1-1.0)"
   ]
  },
  {
   "cell_type": "code",
   "execution_count": null,
   "metadata": {},
   "outputs": [],
   "source": [
    "print(\"negation:\")\n",
    "x = 5\n",
    "print(-x)"
   ]
  },
  {
   "cell_type": "code",
   "execution_count": null,
   "metadata": {},
   "outputs": [],
   "source": [
    "print(\"multiplication:\")\n",
    "print(3*3)\n",
    "print(2*2.0)"
   ]
  },
  {
   "cell_type": "code",
   "execution_count": null,
   "metadata": {},
   "outputs": [],
   "source": [
    "print(\"division:\")\n",
    "print(5/2) # integer division!\n",
    "print(5/2.0)"
   ]
  },
  {
   "cell_type": "code",
   "execution_count": null,
   "metadata": {},
   "outputs": [],
   "source": [
    "print(\"modulo:\")\n",
    "print(5%2)\n",
    "print(5.5%2)"
   ]
  },
  {
   "cell_type": "code",
   "execution_count": null,
   "metadata": {},
   "outputs": [],
   "source": []
  },
  {
   "cell_type": "markdown",
   "metadata": {},
   "source": [
    "There are also a bunch of comparison operators on numeric values:\n",
    "\n",
    "+ `==`: equality of values\n",
    "+ `<`: less than\n",
    "+ `<=`: less than or equal to\n",
    "+ `>`: greater than\n",
    "+ `>=`: greater than or equal to\n",
    "+ `!=`: not equal to, different than\n",
    "\n",
    "These all return a boolean with a value that depends on the outcome of the comparison. "
   ]
  },
  {
   "cell_type": "code",
   "execution_count": null,
   "metadata": {},
   "outputs": [],
   "source": [
    "print(\"equals:\")\n",
    "print(1 == 2)\n",
    "print(1 == 1)\n",
    "print(1.000000000000001 == 1.0)\n",
    "print(1.001==1)"
   ]
  },
  {
   "cell_type": "code",
   "execution_count": null,
   "metadata": {},
   "outputs": [],
   "source": [
    "# You try \n",
    "print(\"comparison:\")\n",
    "print(1 > 0)\n",
    "print(1 > 1)\n",
    "print(1.0 > 1)\n",
    "print(1 >= 1)\n",
    "print(1.0 != 1)\n",
    "print(1*False)"
   ]
  },
  {
   "cell_type": "code",
   "execution_count": null,
   "metadata": {},
   "outputs": [],
   "source": [
    "\n",
    "# Fibonacci series:\n",
    "# the sum of two elements defines the next\n",
    "a = 0\n",
    "b = 1\n",
    "while b < 20: \n",
    "    print(b)\n",
    "    t = a # temporary variable\n",
    "    a = b\n",
    "    b = t+b"
   ]
  },
  {
   "cell_type": "markdown",
   "metadata": {},
   "source": [
    "# Boolean Operations:\n",
    "\n",
    "Frequently, one wants to combine or modify boolean values. Python has several operations for just this purpose:\n",
    "\n",
    "+ `not a`: returns the opposite value of `a`.\n",
    "+ `a and b`: returns true if and only if both `a` and `b` are true.\n",
    "+ `a or b`: returns true either `a` or `b` are true, or both.\n",
    "\n",
    "Like mathematical expressions, boolean expressions can be nested using parentheses. "
   ]
  },
  {
   "cell_type": "code",
   "execution_count": null,
   "metadata": {},
   "outputs": [],
   "source": [
    "var1 = 5\n",
    "var2 = 6\n",
    "var3 = 7 \n",
    "\n",
    "print(var1 + var2 == 11 and var2 + var3 == 13)\n",
    "print(var1 + var2 == 12 and var2 + var3 == 13)\n",
    "print(var1 + var2 == 12 or not(var2 + var3 == 13))\n",
    "print(not(var1 + var2 ==11))\n"
   ]
  },
  {
   "cell_type": "code",
   "execution_count": null,
   "metadata": {},
   "outputs": [],
   "source": [
    "print(bool(None))"
   ]
  },
  {
   "cell_type": "code",
   "execution_count": null,
   "metadata": {},
   "outputs": [],
   "source": [
    "# None, \"\", False, 0 are \"falsy\" which means they are considered false in a Boolean context.  \n",
    "\n",
    "string = \"\"\n",
    "if not string:\n",
    "    print(\"Empty String!\")\n",
    "    \n",
    "#print(bool(string))"
   ]
  },
  {
   "cell_type": "markdown",
   "metadata": {},
   "source": [
    "The None keyword is used to define a null value, or no value at all.\n",
    "\n",
    "None is not the same as 0, False, or an empty string. None is a datatype of its own (NoneType) and only None can be None."
   ]
  },
  {
   "cell_type": "markdown",
   "metadata": {},
   "source": [
    "# String Formatting:\n",
    "Often one wants to embed other information into strings, sometimes with special formatting constraints. In python, one may insert special formatting characters into strings that convey what type of data should be inserted and where, and how the \"stringified\" form should be formatted. For instance, one may wish to insert an integer into a string:"
   ]
  },
  {
   "cell_type": "code",
   "execution_count": null,
   "metadata": {},
   "outputs": [],
   "source": [
    "message = 2\n",
    "print(\"To be or not %5.1f be\" % message)"
   ]
  },
  {
   "cell_type": "code",
   "execution_count": null,
   "metadata": {},
   "outputs": [],
   "source": [
    "print(\"To be or not %d be\" % message)"
   ]
  },
  {
   "cell_type": "markdown",
   "metadata": {},
   "source": [
    "Note the `%d` formatting (or conversion) specifier in the string. This is stating that you wish to insert an integer value (more on these conversion specifiers below). Then the value you wish to insert into the string is separated by a `%` character placed after the string. If you wish to insert more than one value into the string being formatted, they can be placed in a comma separated list, surrounded by parentheses after the `%`:"
   ]
  },
  {
   "cell_type": "code",
   "execution_count": null,
   "metadata": {},
   "outputs": [],
   "source": [
    "print(\"%d be or not %s be\" % (2, \"python\"))"
   ]
  },
  {
   "cell_type": "markdown",
   "metadata": {},
   "source": [
    "In detail, a conversion specifier contains two or more characters which must occur in order with the following components:\n",
    "\n",
    "+ The `%` character which marks the start of the specifier\n",
    "+ An optional minimum field width. The value being read is padded to be at least this width\n",
    "+ An optional precision value, given as a \"`.`\" followed by the number of digits precision. \n",
    "+ Conversion specifier flag specified below. \n",
    "\n",
    "For a more detailed treatment on string formatting options, [see here](http://docs.python.org/release/2.5.2/lib/typesseq-strings.html).\n",
    "\n",
    "Some common conversion flag characters are:\n",
    "\n",
    "+ `d`: Signed integer decimal.\t\n",
    "+ `i`: Signed integer decimal.\t\n",
    "+ `e`: Floating point exponential format (lowercase).\n",
    "+ `E`: Floating point exponential format (uppercase).\n",
    "+ `f`: Floating point decimal format.\n",
    "+ `c`: Single character (accepts integer or single character string).\t\n",
    "+ `r`: String (converts any python object using repr()).\n",
    "+ `s`: String (converts any python object using str()).\n"
   ]
  },
  {
   "cell_type": "code",
   "execution_count": null,
   "metadata": {},
   "outputs": [],
   "source": [
    "print(\"%d %s or not %05.2f %c\" % (2, \"be\", 10.0/3, 'b'))"
   ]
  },
  {
   "cell_type": "markdown",
   "metadata": {},
   "source": [
    "#### Exercise\n",
    "\n",
    "* 8 male customers and 10 female customers. Calculate the percentage of men (include the percetage sign)\n"
   ]
  },
  {
   "cell_type": "code",
   "execution_count": null,
   "metadata": {},
   "outputs": [],
   "source": [
    "print(\"percentage of male is %05.2f %c\" %(8*100/18, \"%\"))\n"
   ]
  },
  {
   "cell_type": "markdown",
   "metadata": {},
   "source": [
    "Data Structures\n",
    "---------------\n",
    "\n",
    "We have covered in detail much of the basics of python's primitive data types. Its now useful to consider how these basic types can be collected in ways that are meaningful and useful for a variety of tasks. Data structures are a fundamental component of programming, a collection of elements of data that adhere to certain properties, depending on the type. In these notes, we'll present three basic data structures, the list, the set, and the dictionary. Python data structures are very rich, and beyond the scope of this simple primer. Please see [the documentation](http://docs.python.org/2/tutorial/datastructures.html) for a more complete view.\n",
    "\n",
    "### List:\n",
    "A list, sometimes called an array or a vector is an ordered collection of values. The value of a particular element in a list is retrieved by querying for a specific index into an array. Lists allow duplicate values, but indicies are unique. In python, like most programming languages, list indices start at 0, that is, to get the first element in a list, request the element at index 0. Lists provide very fast access to elements at specific positions, but are inefficient at \"membership queries,\" determining if an element is in the array. \n",
    "\n",
    "In python, lists are specified by square brackets, `[ ]`, containing zero or more values, separated by commas. Lists are the most common data structure, and are often generated as a result of other functions, for instance, `a_string.split(\" \")`.\n",
    "\n",
    "To query a specific value from a list, pass in the requested index into square brackets following the name of the list. Negative indices can be used to traverse the list from the right."
   ]
  },
  {
   "cell_type": "code",
   "execution_count": null,
   "metadata": {},
   "outputs": [],
   "source": [
    "a_list = [1, 2, 3, 0, 5, 10, 11]\n",
    "a_list[-3:-1]\n",
    "len(a_list)\n",
    "type(a_list)"
   ]
  },
  {
   "cell_type": "code",
   "execution_count": null,
   "metadata": {},
   "outputs": [],
   "source": [
    "another_list = [\"a\", \"b\", \"c\"]\n",
    "empty_list = []\n",
    "mixed_list = [1, \"a\"]\n",
    "\n",
    "print(another_list[1])\n",
    "print(a_list[-2:-1]) # indexing from the right\n",
    "print(a_list[2:])\n",
    "print(mixed_list[1])\n"
   ]
  },
  {
   "cell_type": "code",
   "execution_count": null,
   "metadata": {},
   "outputs": [],
   "source": [
    "another_list[::-1]"
   ]
  },
  {
   "cell_type": "markdown",
   "metadata": {},
   "source": [
    "Some common functionality of lists:\n",
    "\n",
    "+ `list.append(x)`: add an element ot the end of a list\n",
    "+ `list_1.extend(list_2)`: add all elements in the second list to the end of the first list\n",
    "+ `list.insert(index, x)`: insert element x into the list at the specified index. Elements to the right of this index are shifted over\n",
    "+ `list.pop(index)`: remove the element at the specified position\n",
    "+ `list.index(x)`: looks through the list to find the specified element, returning it's position if it's found, else throws an error\n",
    "+ `list.count(x)`: counts the number of occurrences of the input element\n",
    "+ `list.sort()`: sorts the list of items, list.sort(key = , reverse = True/False) default is False.\n",
    "+ `list.reverse()`: reverses the order of the list\n"
   ]
  },
  {
   "cell_type": "code",
   "execution_count": null,
   "metadata": {},
   "outputs": [],
   "source": [
    "a = [\"Python\", \"is\", \"one\"]\n",
    "a.sort(key=len, reverse = True)\n",
    "a"
   ]
  },
  {
   "cell_type": "markdown",
   "metadata": {},
   "source": [
    "#### Exercise\n",
    "\n",
    "* Add the letter \"d\" in `another_list` and print the result\n",
    "* Add the letter \"c\" in `another_list` and print the result\n",
    "* If you search for \"c\" in `another_list` using the list.index(x) command, what is the result?\n",
    "* Sort `another_list` and print the result"
   ]
  },
  {
   "cell_type": "code",
   "execution_count": null,
   "metadata": {},
   "outputs": [],
   "source": []
  },
  {
   "cell_type": "code",
   "execution_count": null,
   "metadata": {},
   "outputs": [],
   "source": []
  },
  {
   "cell_type": "code",
   "execution_count": null,
   "metadata": {},
   "outputs": [],
   "source": []
  },
  {
   "cell_type": "code",
   "execution_count": null,
   "metadata": {},
   "outputs": [],
   "source": []
  },
  {
   "cell_type": "code",
   "execution_count": null,
   "metadata": {},
   "outputs": [],
   "source": []
  }
 ],
 "metadata": {
  "celltoolbar": "Slideshow",
  "interpreter": {
   "hash": "41ac783b8cb833c45515a5ce2b95770fe7232c38fce9ed4f9f8886414a529607"
  },
  "kernelspec": {
   "display_name": "Python 3",
   "language": "python",
   "name": "python3"
  },
  "language_info": {
   "codemirror_mode": {
    "name": "ipython",
    "version": 3
   },
   "file_extension": ".py",
   "mimetype": "text/x-python",
   "name": "python",
   "nbconvert_exporter": "python",
   "pygments_lexer": "ipython3",
   "version": "3.8.8"
  }
 },
 "nbformat": 4,
 "nbformat_minor": 1
}
